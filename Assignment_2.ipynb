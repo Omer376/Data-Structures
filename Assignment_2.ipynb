{
  "nbformat": 4,
  "nbformat_minor": 0,
  "metadata": {
    "colab": {
      "provenance": []
    },
    "kernelspec": {
      "name": "python3",
      "display_name": "Python 3"
    },
    "language_info": {
      "name": "python"
    }
  },
  "cells": [
    {
      "cell_type": "markdown",
      "source": [
        "#ASSIGNMENT 2 - DATA TYPE AND STRUCTURES\n",
        "##THEORY QUESTIONS--\n",
        "###**Q1) What are data structures, and why are they important?**\n",
        "####Ans: Data structure can be defined as a container in which we can organize,manipulate and perform operations on data. It helps to manage data easily and helps boost system effeciency and memory. Its important due to following reasons:\n",
        "####1) It helps for management and organization of data\n",
        "####2) Can help in system optimization and memory management\n",
        "####3) We can access data diffrently based on diffrent data structures.\n",
        "####4) Gives a variety of operations and searching techniques\n",
        "\n",
        "###**Q2) Explain the difference between mutable and immutable data types with examples?**\n",
        "#### Ans: **Mutable data types** can be defined as data structures which allows manipulation of data within a data structures after its creation. It allows data manipulation by using various functions such as **.appened(),.remove() etc**.Some examples can be a list or dictionary.Mutable collection data types are also called as Ordered collection data types.\n",
        "\n",
        "####**Immutable data types** can be defined as data structures which does not allow manipulation of data within a data structures after its creation.It follows a strict and fixed structure without any change in data. Some examples can be a Sets or tuples.Immutable collection data types are also called as Unordered collection data types.\n",
        "\n",
        "###**Q3)What are the main differences between lists and tuples in Python?**\n",
        "####Ans:**List** is a mutable data structure in python.\n",
        "####1)It allows data to be manipluated after its creation.\n",
        "####2)It allow data modification.\n",
        "####3)Its also called as Ordered collection of elements.\n",
        "\n",
        "####**Tuple** is an immutable data structure in python.\n",
        "####1)It does not allow data to be manipluated after its creation.\n",
        "####2)No data modification is allowed.\n",
        "####3)Its also called as Unordered collection of elements.\n",
        "\n",
        "###**Q4) Describe how dictionaries store data?**\n",
        "####Ans: **Dictionaries** stores data in form of key:value pairs in memory.Unlike normal lists where we can access elements or values by their indexes, we use keys to access values in memory. But we cannot access keys through values in a dictionary.\n",
        "\n",
        "###**Q5)  Why might you use a set instead of a list in Python?**\n",
        "####Ans: **Set** is a unique data structure in python which is unordered. It means since element will not have an order, there is no index concept. Set does not allow duplicate value and ignores any duplicate values. We can also append and remove elements from a set and can use actual value to access the elements in a set.\n",
        "\n",
        "###**Q6) What is a string in Python, and how is it different from a list?**\n",
        "####Ans: **String** is a data strcuture which is a sequence of characters in a unchangable order. Which means unlike list which is a mutable data structure, A string is a immutable data structure.\n",
        "\n",
        "###**Q7) How do tuples ensure data integrity in Python?**\n",
        "####Ans: **Tuples** ensure data integrity which refers to data security by being an immutable data structure. Since its immutable, it means that data cannot be modified after its creation.This ensure safety of important data and can be used to save important data of company which does not require any changement.\n",
        "\n",
        "###**Q8) What is a hash table, and how does it relate to dictionaries in Python?**``Important``\n",
        "####Ans: A **hash table** is a data structure that stores data as key-value pairs, using a hash function to quickly find the data. In Python, dictionaries (`dict`) are built using hash tables, making lookups, insertions, and deletions very fast. Keys in a dictionary must be unique and hashable (e.g., strings, numbers).\n",
        "\n",
        "###**Q9) Can lists contain different data types in Python?**\n",
        "####Ans: **List** allows to hold hetrogenous data types. Hetrogenous data types refer to more than one data type. List allows to add elements within it kinda of like a shopping bag of a mother when going to market.eg:-[(1,2,3),1.23,1,\"Hi\"] etc.\n",
        "\n",
        "###**Q10)  Explain why strings are immutable in Python?**\n",
        "####Ans: **Strings** are immutable in python to ensure that sequence of characters remain in an unchangeable order and make sense.It is done to maintain the meaning of strings data structure. It also ensures consistency and maintainance of hash value.\n",
        "\n",
        "###**Q11) What advantages do dictionaries offer over lists for certain tasks?**\n",
        "####Ans: **Dictionaries** are data types in python which stores key:value pairs in memory.Unlike list indexing is not required as we can access the values using thier keys.Unlike lists which have can have duplicates, a key in a dictionary is unique and also immutable.\n",
        "\n",
        "###**Q12)  Describe a scenario where using a tuple would be preferable over a list?**\n",
        "####Ans: **Tuple** can be used by its immutablity property. It can be used for a inserting company sales over a year.Since this data can't be changed and its factual,we can use tuple since no data modification can occur.\n",
        "\n",
        "###**Q13) How do sets handle duplicate values in Python?**\n",
        "####Ans: **Sets** are a data structure in python which does not allow duplicate values within it.If any duplicate value occurs,it will only consider the first occurence of the value and ignore the rest of it and not include it within the set.\n",
        "\n",
        "###**Q14) How does the “in” keyword work differently for lists and dictionaries?**\n",
        "####Ans: The *in* keyword in lists iterates to all the values present in a list to check if a statement is present or not.In case of dictionaries, the *in* keyword only traverse throught the keys and not the values.It only chekcs if the statement in present in keys or not.\n",
        "\n",
        "###**Q15) Can you modify the elements of a tuple? Explain why or why not?**\n",
        "####Ans: No, we cannot modify the elements in tuple.It is due to the immutability property of the tuple. It means no data modification can occur after the tuple creation.\n",
        "\n",
        "###**Q16)  What is a nested dictionary, and give an example of its use case?**\n",
        "####Ans: A nested dictionary can be defined as another dictionary which is defined within an existing dictionary.This property help for dictionary to be useful in various areas.Eg:-\n",
        "####d={\"student\":{\"name\":\"Omer\",\"Age\":\"19\"}}\n",
        "\n",
        "###**Q17) Describe the time complexity of accessing elements in a dictionary?**\n",
        "####Ans: The time complexity of **dictionaries** is O(1) as look up is quick through hash table or in worst case O(n) due to traverse of keys.\n",
        "\n",
        "###**Q18) In what situations are lists preferred over dictionaries?**\n",
        "####Ans: Dictionaries are very useful data type in python.But it has a drawback that keys are unique and immutable.Here is where lists take the lead has the can access elements by indexing and also is mutable, dictionaries are only mutable through values.\n",
        "\n",
        "###**Q19)  Why are dictionaries considered unordered, and how does that affect data retrieval?**\n",
        "####Ans: Dictionaries are considered unordered due to the keys. Keys should be unique and immutable. Data in dictionaries is retrived by the keys assigned to that value and not by indexing.We can access the data in two ways, one by using key like *dict[key]* or by using *.get()*.\n",
        "\n",
        "###**Q20) Explain the difference between a list and a dictionary in terms of data retrieval?**\n",
        "####Ans: List elemets can be accessed using index concept since list elemenst have indexes assigned to it in memory.\n",
        "#### Dictionary elements can only be accessed by their keys which are unique and immutable.Unlike lists, these keys are assigned to the values in the memory block and can be only accessed by the keys.\n",
        "\n"
      ],
      "metadata": {
        "id": "FCi5Zj2tX-oE"
      }
    },
    {
      "cell_type": "markdown",
      "source": [
        "#PRACTICAL QUESTIONS\n"
      ],
      "metadata": {
        "id": "IyC6RC510XXm"
      }
    },
    {
      "cell_type": "code",
      "source": [
        "#Q1)Write a code to create a string with your name and print it\n",
        "s=str(input(\"Enter Your Name:\"))\n",
        "print(s,type(s))"
      ],
      "metadata": {
        "id": "efifZhDR2ea7",
        "colab": {
          "base_uri": "https://localhost:8080/"
        },
        "outputId": "384c040d-669e-4891-e916-ef00047af362"
      },
      "execution_count": 1,
      "outputs": [
        {
          "output_type": "stream",
          "name": "stdout",
          "text": [
            "Enter Your Name:Omer\n",
            "Omer <class 'str'>\n"
          ]
        }
      ]
    },
    {
      "cell_type": "code",
      "source": [
        "#Q2) Write a code to find the length of the string \"Hello World\"\n",
        "len(\"Hello World\")"
      ],
      "metadata": {
        "colab": {
          "base_uri": "https://localhost:8080/"
        },
        "id": "QZQBMGBg0vJd",
        "outputId": "e116bf6e-17e9-4b66-9a85-8eee69ac73da"
      },
      "execution_count": 2,
      "outputs": [
        {
          "output_type": "execute_result",
          "data": {
            "text/plain": [
              "11"
            ]
          },
          "metadata": {},
          "execution_count": 2
        }
      ]
    },
    {
      "cell_type": "code",
      "source": [
        "#Q3) Write a code to slice the first 3 characters from the string \"Python Programming\"\n",
        "a=\"Python Programming\"\n",
        "a[0:3]\n"
      ],
      "metadata": {
        "colab": {
          "base_uri": "https://localhost:8080/",
          "height": 35
        },
        "id": "odrfasl2046U",
        "outputId": "4cfbe250-ce9e-478d-8755-c1a1693b4aff"
      },
      "execution_count": 4,
      "outputs": [
        {
          "output_type": "execute_result",
          "data": {
            "text/plain": [
              "'Pyt'"
            ],
            "application/vnd.google.colaboratory.intrinsic+json": {
              "type": "string"
            }
          },
          "metadata": {},
          "execution_count": 4
        }
      ]
    },
    {
      "cell_type": "code",
      "source": [
        "#Q4) Write a code to convert the string \"hello\" to uppercase.\n",
        "a=\"hello\"\n",
        "a.upper()"
      ],
      "metadata": {
        "colab": {
          "base_uri": "https://localhost:8080/",
          "height": 35
        },
        "id": "gSY-AjJQ1ZGU",
        "outputId": "02da3b54-ce7c-49fc-fa2b-c1243c849f78"
      },
      "execution_count": 5,
      "outputs": [
        {
          "output_type": "execute_result",
          "data": {
            "text/plain": [
              "'HELLO'"
            ],
            "application/vnd.google.colaboratory.intrinsic+json": {
              "type": "string"
            }
          },
          "metadata": {},
          "execution_count": 5
        }
      ]
    },
    {
      "cell_type": "code",
      "source": [
        "#Q5) Write a code to replace the word \"apple\" with \"orange\" in the string \"I like apple\"\n",
        "a=\"I like apple\"\n",
        "a.replace(\"apple\",\"orange\")"
      ],
      "metadata": {
        "colab": {
          "base_uri": "https://localhost:8080/",
          "height": 35
        },
        "id": "l1kt5ZH61s8b",
        "outputId": "71a4ac8c-8095-4ba5-8477-88340ad913cf"
      },
      "execution_count": 6,
      "outputs": [
        {
          "output_type": "execute_result",
          "data": {
            "text/plain": [
              "'I like orange'"
            ],
            "application/vnd.google.colaboratory.intrinsic+json": {
              "type": "string"
            }
          },
          "metadata": {},
          "execution_count": 6
        }
      ]
    },
    {
      "cell_type": "code",
      "source": [
        "#Q6) Write a code to create a list with numbers 1 to 5 and print it\n",
        "l=[]\n",
        "for i in range(1,6):\n",
        "  l.append(i)\n",
        "print(l)\n"
      ],
      "metadata": {
        "colab": {
          "base_uri": "https://localhost:8080/"
        },
        "id": "fOYN0YvO171r",
        "outputId": "5201b187-eeeb-4145-b1fc-93009d7a7ea0"
      },
      "execution_count": 7,
      "outputs": [
        {
          "output_type": "stream",
          "name": "stdout",
          "text": [
            "[1, 2, 3, 4, 5]\n"
          ]
        }
      ]
    },
    {
      "cell_type": "code",
      "source": [
        "#Q7) Write a code to append the number 10 to the list [1, 2, 3, 4]\n",
        "l=[1,2,3,4]\n",
        "l.append(10)\n",
        "print(l)"
      ],
      "metadata": {
        "colab": {
          "base_uri": "https://localhost:8080/"
        },
        "id": "Er3rRURh2O-D",
        "outputId": "fa7be8b3-7a79-4b64-e9a0-8d7ea9631093"
      },
      "execution_count": 9,
      "outputs": [
        {
          "output_type": "stream",
          "name": "stdout",
          "text": [
            "[1, 2, 3, 4, 10]\n"
          ]
        }
      ]
    },
    {
      "cell_type": "code",
      "source": [
        "#Q8) Write a code to remove the number 3 from the list [1, 2, 3, 4, 5]\n",
        "l=[1,2,3,4,5]\n",
        "l.remove(3)\n",
        "print(l)"
      ],
      "metadata": {
        "colab": {
          "base_uri": "https://localhost:8080/"
        },
        "id": "tMuhmc6x2VN8",
        "outputId": "31ddb1da-24a1-4523-f55b-485d9e426381"
      },
      "execution_count": 11,
      "outputs": [
        {
          "output_type": "stream",
          "name": "stdout",
          "text": [
            "[1, 2, 4, 5]\n"
          ]
        }
      ]
    },
    {
      "cell_type": "code",
      "source": [
        "#Q9) Write a code to access the second element in the list ['a', 'b', 'c', 'd']\n",
        "l=['a','b','c','d']\n",
        "l[1]"
      ],
      "metadata": {
        "colab": {
          "base_uri": "https://localhost:8080/",
          "height": 35
        },
        "id": "8yg2NYQ82rIY",
        "outputId": "5e26264d-123b-44a1-8436-51cd5e7520ee"
      },
      "execution_count": 12,
      "outputs": [
        {
          "output_type": "execute_result",
          "data": {
            "text/plain": [
              "'b'"
            ],
            "application/vnd.google.colaboratory.intrinsic+json": {
              "type": "string"
            }
          },
          "metadata": {},
          "execution_count": 12
        }
      ]
    },
    {
      "cell_type": "code",
      "source": [
        "#Q10) Write a code to reverse the list [10, 20, 30, 40, 50]\n",
        "l=[10,20,30,40,50]\n",
        "l.reverse()\n",
        "print(l)\n"
      ],
      "metadata": {
        "colab": {
          "base_uri": "https://localhost:8080/"
        },
        "id": "r3ngg1Xh2rEi",
        "outputId": "f17c2e91-b1a4-46d1-80e5-be49e5e03bd0"
      },
      "execution_count": 17,
      "outputs": [
        {
          "output_type": "stream",
          "name": "stdout",
          "text": [
            "[50, 40, 30, 20, 10]\n"
          ]
        }
      ]
    },
    {
      "cell_type": "code",
      "source": [
        "#Q11)  Write a code to create a tuple with the elements 100, 200, 300 and print it\n",
        "e=(100,200,300)\n",
        "e"
      ],
      "metadata": {
        "colab": {
          "base_uri": "https://localhost:8080/"
        },
        "id": "hbzo8QMM2rAF",
        "outputId": "41f6125f-a963-4ace-f1d6-ea2ed2d4e819"
      },
      "execution_count": 18,
      "outputs": [
        {
          "output_type": "execute_result",
          "data": {
            "text/plain": [
              "(100, 200, 300)"
            ]
          },
          "metadata": {},
          "execution_count": 18
        }
      ]
    },
    {
      "cell_type": "code",
      "source": [
        "#Q12)  Write a code to access the second-to-last element of the tuple ('red', 'green', 'blue', 'yellow')\n",
        "e=('red','green','blue','yellow')\n",
        "e[-2]\n",
        "e[2]"
      ],
      "metadata": {
        "colab": {
          "base_uri": "https://localhost:8080/",
          "height": 35
        },
        "id": "2bxvRyMf2q9C",
        "outputId": "34288be9-8c7c-45ee-fd05-1488a7bcd38b"
      },
      "execution_count": 20,
      "outputs": [
        {
          "output_type": "execute_result",
          "data": {
            "text/plain": [
              "'blue'"
            ],
            "application/vnd.google.colaboratory.intrinsic+json": {
              "type": "string"
            }
          },
          "metadata": {},
          "execution_count": 20
        }
      ]
    },
    {
      "cell_type": "code",
      "source": [
        "#Q13) Write a code to find the minimum number in the tuple (10, 20, 5, 15).\n",
        "min(10,20,5,15)"
      ],
      "metadata": {
        "colab": {
          "base_uri": "https://localhost:8080/"
        },
        "id": "2CrnGq1s2q1i",
        "outputId": "48440367-c8f2-4973-fc7a-e91128c06f12"
      },
      "execution_count": 21,
      "outputs": [
        {
          "output_type": "execute_result",
          "data": {
            "text/plain": [
              "5"
            ]
          },
          "metadata": {},
          "execution_count": 21
        }
      ]
    },
    {
      "cell_type": "code",
      "source": [
        "#Q14)  Write a code to find the index of the element \"cat\" in the tuple ('dog', 'cat', 'rabbit')\n",
        "e=('dog','cat','rabbit')\n",
        "e.index('cat')"
      ],
      "metadata": {
        "colab": {
          "base_uri": "https://localhost:8080/"
        },
        "id": "lsfykJQJ2qry",
        "outputId": "b81c3406-988e-47b4-d451-d21c5050e3a6"
      },
      "execution_count": 26,
      "outputs": [
        {
          "output_type": "execute_result",
          "data": {
            "text/plain": [
              "1"
            ]
          },
          "metadata": {},
          "execution_count": 26
        }
      ]
    },
    {
      "cell_type": "code",
      "source": [
        "#Q15) Write a code to create a tuple containing three different fruits and check if \"kiwi\" is in it\n",
        "e=(\"apple\",\"banana\",\"kiwi\")\n",
        "if \"kiwi\" in e:\n",
        "  print(\"True\")\n",
        "else:\n",
        "  print(\"False\")"
      ],
      "metadata": {
        "colab": {
          "base_uri": "https://localhost:8080/"
        },
        "id": "c5b3e8CL4oCL",
        "outputId": "dd710f8d-9376-4919-eaa3-6a62aff7ea59"
      },
      "execution_count": 28,
      "outputs": [
        {
          "output_type": "stream",
          "name": "stdout",
          "text": [
            "True\n"
          ]
        }
      ]
    },
    {
      "cell_type": "code",
      "source": [
        "#Q16) Write a code to create a set with the elements 'a', 'b', 'c' and print it\n",
        "S={\"a\",\"b\",\"c\"}\n",
        "print(S)"
      ],
      "metadata": {
        "colab": {
          "base_uri": "https://localhost:8080/"
        },
        "id": "hO8AkEe15E6e",
        "outputId": "b8d5c6c1-503e-494a-ca4f-b295ef5c4663"
      },
      "execution_count": 29,
      "outputs": [
        {
          "output_type": "stream",
          "name": "stdout",
          "text": [
            "{'b', 'c', 'a'}\n"
          ]
        }
      ]
    },
    {
      "cell_type": "code",
      "source": [
        "#Q17) Write a code to clear all elements from the set {1, 2, 3, 4, 5}.\n",
        "S={1,2,3,4,5}\n",
        "S.clear()\n",
        "print(S)"
      ],
      "metadata": {
        "colab": {
          "base_uri": "https://localhost:8080/"
        },
        "id": "amENhnqE4n_f",
        "outputId": "2a78d27e-cdfe-40ee-f383-d9b191b65470"
      },
      "execution_count": 30,
      "outputs": [
        {
          "output_type": "stream",
          "name": "stdout",
          "text": [
            "set()\n"
          ]
        }
      ]
    },
    {
      "cell_type": "code",
      "source": [
        "#Q18) Write a code to remove the element 4 from the set {1, 2, 3, 4}\n",
        "S={1,2,3,4}\n",
        "S.remove(4)\n",
        "print(S)"
      ],
      "metadata": {
        "colab": {
          "base_uri": "https://localhost:8080/"
        },
        "id": "MkQOdFok4n1U",
        "outputId": "e52b0008-f97b-4a8c-851b-cd1e3b219837"
      },
      "execution_count": 31,
      "outputs": [
        {
          "output_type": "stream",
          "name": "stdout",
          "text": [
            "{1, 2, 3}\n"
          ]
        }
      ]
    },
    {
      "cell_type": "code",
      "source": [
        "#Q19) Write a code to find the union of two sets {1, 2, 3} and {3, 4, 5}\n",
        "S1={1,2,3}\n",
        "S2={3,4,5}\n",
        "S1|S2# Union"
      ],
      "metadata": {
        "colab": {
          "base_uri": "https://localhost:8080/"
        },
        "id": "V4nP81IU4nyz",
        "outputId": "71018c07-ad1e-489e-a0e5-7d874c0aa80b"
      },
      "execution_count": 32,
      "outputs": [
        {
          "output_type": "execute_result",
          "data": {
            "text/plain": [
              "{1, 2, 3, 4, 5}"
            ]
          },
          "metadata": {},
          "execution_count": 32
        }
      ]
    },
    {
      "cell_type": "code",
      "source": [
        "#Q20)  Write a code to find the intersection of two sets {1, 2, 3} and {2, 3, 4}\n",
        "S1={1,2,3}\n",
        "S2={2,3,4}\n",
        "S1&S2# Intersection"
      ],
      "metadata": {
        "colab": {
          "base_uri": "https://localhost:8080/"
        },
        "id": "N_343jEo4nwk",
        "outputId": "a1549c64-d112-4df1-978a-b65b2e17e71e"
      },
      "execution_count": 33,
      "outputs": [
        {
          "output_type": "execute_result",
          "data": {
            "text/plain": [
              "{2, 3}"
            ]
          },
          "metadata": {},
          "execution_count": 33
        }
      ]
    },
    {
      "cell_type": "code",
      "source": [
        "#Q21)  Write a code to create a dictionary with the keys \"name\", \"age\", and \"city\", and print it\n",
        "d={\"name\":\"Omer\",\"Age\":21,\"City\":\"Kanpur\"}\n",
        "print(d)"
      ],
      "metadata": {
        "colab": {
          "base_uri": "https://localhost:8080/"
        },
        "id": "QthVbTsY4nuD",
        "outputId": "0b7e088f-f3c3-4ffe-ad0a-f44e3a4dc7e4"
      },
      "execution_count": 34,
      "outputs": [
        {
          "output_type": "stream",
          "name": "stdout",
          "text": [
            "{'name': 'Omer', 'Age': 21, 'City': 'Kanpur'}\n"
          ]
        }
      ]
    },
    {
      "cell_type": "code",
      "source": [
        "#Q22)  Write a code to add a new key-value pair \"country\": \"USA\" to the dictionary {'name': 'John', 'age': 25}\n",
        "d={'name': 'John', 'age': 25}\n",
        "d[\"country\"]=\"USA\"#new value pair add\n",
        "print(d)"
      ],
      "metadata": {
        "colab": {
          "base_uri": "https://localhost:8080/"
        },
        "id": "BC081bve4nrK",
        "outputId": "cfff3b32-7af0-4661-d96b-b2d47753e76f"
      },
      "execution_count": 35,
      "outputs": [
        {
          "output_type": "stream",
          "name": "stdout",
          "text": [
            "{'name': 'John', 'age': 25, 'country': 'USA'}\n"
          ]
        }
      ]
    },
    {
      "cell_type": "code",
      "source": [
        "#Q23)  Write a code to access the value associated with the key \"name\" in the dictionary {'name': 'Alice', 'age': 30}\n",
        "d={'name':'Alice','age':30}\n",
        "d['name']"
      ],
      "metadata": {
        "colab": {
          "base_uri": "https://localhost:8080/",
          "height": 35
        },
        "id": "PgcjTZc54noX",
        "outputId": "71e3acde-e258-4f58-bef4-945177aa0c37"
      },
      "execution_count": 36,
      "outputs": [
        {
          "output_type": "execute_result",
          "data": {
            "text/plain": [
              "'Alice'"
            ],
            "application/vnd.google.colaboratory.intrinsic+json": {
              "type": "string"
            }
          },
          "metadata": {},
          "execution_count": 36
        }
      ]
    },
    {
      "cell_type": "code",
      "source": [
        "#Q24)  Write a code to remove the key \"age\" from the dictionary {'name': 'Bob', 'age': 22, 'city': 'New York'}\n",
        "d={'name': 'Bob', 'age': 22, 'city': 'New York'}\n",
        "del d['age']\n",
        "print(d)"
      ],
      "metadata": {
        "colab": {
          "base_uri": "https://localhost:8080/"
        },
        "id": "mRH3gDRj7Njk",
        "outputId": "351505c5-f33e-4c9f-cc39-19cf3c9b3cab"
      },
      "execution_count": 39,
      "outputs": [
        {
          "output_type": "stream",
          "name": "stdout",
          "text": [
            "{'name': 'Bob', 'city': 'New York'}\n"
          ]
        }
      ]
    },
    {
      "cell_type": "code",
      "source": [
        "#Q25) Write a code to check if the key \"city\" exists in the dictionary {'name': 'Alice', 'city': 'Paris'}\n",
        "d={'name': 'Alice', 'city': 'Paris'}\n",
        "\"city\" in d"
      ],
      "metadata": {
        "colab": {
          "base_uri": "https://localhost:8080/"
        },
        "id": "k-Iz7VZS7hrc",
        "outputId": "9c9b1b6d-966c-4f01-f161-0f69694f78d5"
      },
      "execution_count": 40,
      "outputs": [
        {
          "output_type": "execute_result",
          "data": {
            "text/plain": [
              "True"
            ]
          },
          "metadata": {},
          "execution_count": 40
        }
      ]
    },
    {
      "cell_type": "code",
      "source": [
        "#Q26) Write a code to create a list, a tuple, and a dictionary, and print them all\n",
        "l=[1,2,3]\n",
        "t=(1,2,3)\n",
        "d={\"name\":\"Omer\",\"Age\":21,\"City\":\"Kanpur\"}\n",
        "print(l,t,d,sep=\"\\n\")"
      ],
      "metadata": {
        "colab": {
          "base_uri": "https://localhost:8080/"
        },
        "id": "aSfHhCab7rDK",
        "outputId": "d85c3ac7-0290-40b3-8261-539d6528a924"
      },
      "execution_count": 44,
      "outputs": [
        {
          "output_type": "stream",
          "name": "stdout",
          "text": [
            "[1, 2, 3]\n",
            "(1, 2, 3)\n",
            "{'name': 'Omer', 'Age': 21, 'City': 'Kanpur'}\n"
          ]
        }
      ]
    },
    {
      "cell_type": "code",
      "source": [
        "\"\"\"Q27)Write a code to create a list of 5 random numbers between 1 and 100, sort it in ascending order, and print the\n",
        "result.(replaced)\"\"\"\n",
        "import random\n",
        "l=[]\n",
        "for i in range(5):\n",
        "  l.append(random.randint(1,100))#randint returns a random(rand) integer(int)\n",
        "l.sort()\n",
        "print(l)\n"
      ],
      "metadata": {
        "colab": {
          "base_uri": "https://localhost:8080/"
        },
        "id": "2Lp05NVR8CYs",
        "outputId": "4f515eb2-67d8-4666-a980-33c97f1f0950"
      },
      "execution_count": 45,
      "outputs": [
        {
          "output_type": "stream",
          "name": "stdout",
          "text": [
            "[1, 11, 33, 72, 98]\n"
          ]
        }
      ]
    },
    {
      "cell_type": "code",
      "source": [
        "#Q28) Write a code to create a list with strings and print the element at the third index.\n",
        "p=[]\n",
        "for i in range(1,6):\n",
        "  l=str(input(\"Enter a string:\"))\n",
        "  p.append(l)\n",
        "print(p[2])\n",
        "\n",
        "\n"
      ],
      "metadata": {
        "colab": {
          "base_uri": "https://localhost:8080/"
        },
        "id": "6BC6NRAf8CQS",
        "outputId": "f2455d68-fee8-4971-e8fd-f647f8b00990"
      },
      "execution_count": 46,
      "outputs": [
        {
          "output_type": "stream",
          "name": "stdout",
          "text": [
            "Enter a string:OMER\n",
            "Enter a string:TAHA\n",
            "Enter a string:AANYA\n",
            "Enter a string:ME\n",
            "Enter a string:YOU\n",
            "AANYA\n"
          ]
        }
      ]
    },
    {
      "cell_type": "code",
      "source": [
        "#Q29) Write a code to combine two dictionaries into one and print the result\n",
        "d1={\"name\":\"Omer\",\"Age\":21}\n",
        "d2={\"City\":\"Kanpur\",\"Country\":\"India\"}\n",
        "d1.update(d2)\n",
        "print(d1)"
      ],
      "metadata": {
        "colab": {
          "base_uri": "https://localhost:8080/"
        },
        "id": "O_uMu7GL8CHy",
        "outputId": "f2621fd5-96d8-4ee4-c044-c6db917c0fb7"
      },
      "execution_count": 47,
      "outputs": [
        {
          "output_type": "stream",
          "name": "stdout",
          "text": [
            "{'name': 'Omer', 'Age': 21, 'City': 'Kanpur', 'Country': 'India'}\n"
          ]
        }
      ]
    },
    {
      "cell_type": "code",
      "source": [
        "#Q30) Write a code to convert a list of strings into a set.\n",
        "set(p) #p is defined in Q28"
      ],
      "metadata": {
        "colab": {
          "base_uri": "https://localhost:8080/"
        },
        "id": "7bFTHgo78B9y",
        "outputId": "698d820e-f751-4b36-95b0-e5cb0e5abedd"
      },
      "execution_count": 48,
      "outputs": [
        {
          "output_type": "execute_result",
          "data": {
            "text/plain": [
              "{'AANYA', 'ME', 'OMER', 'TAHA', 'YOU'}"
            ]
          },
          "metadata": {},
          "execution_count": 48
        }
      ]
    }
  ]
}